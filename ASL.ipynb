{
  "nbformat": 4,
  "nbformat_minor": 0,
  "metadata": {
    "accelerator": "GPU",
    "colab": {
      "name": "ASL",
      "provenance": [],
      "collapsed_sections": [],
      "authorship_tag": "ABX9TyO0bXO5Z/BIWqypYDrNronx",
      "include_colab_link": true
    },
    "kernelspec": {
      "display_name": "Python 3",
      "name": "python3"
    }
  },
  "cells": [
    {
      "cell_type": "markdown",
      "metadata": {
        "id": "view-in-github",
        "colab_type": "text"
      },
      "source": [
        "<a href=\"https://colab.research.google.com/github/StuteePatil/American-Sign-Language/blob/main/ASL.ipynb\" target=\"_parent\"><img src=\"https://colab.research.google.com/assets/colab-badge.svg\" alt=\"Open In Colab\"/></a>"
      ]
    },
    {
      "cell_type": "code",
      "metadata": {
        "id": "n52fwLo0TMGJ"
      },
      "source": [
        "from google.colab import files\r\n",
        "file = files.upload()\r\n",
        "!unzip dataset.zip"
      ],
      "execution_count": null,
      "outputs": []
    },
    {
      "cell_type": "code",
      "metadata": {
        "id": "IjWPlGjIcnOk"
      },
      "source": [
        "import os\r\n",
        "import matplotlib.image as mpimg\r\n",
        "\r\n",
        "images = []\r\n",
        "labels = []\r\n",
        "\r\n",
        "# creating dataset of images and their corresponding labels\r\n",
        "def load_images(folder, label):\r\n",
        "    for filename in os.listdir(folder):\r\n",
        "        img = mpimg.imread(os.path.join(folder, filename))\r\n",
        "        if img is not None:\r\n",
        "            images.append(img)\r\n",
        "            labels.append(label)\r\n",
        "    return images\r\n",
        "\r\n",
        "folder = 'asl_dataset/asl_dataset'\r\n",
        "\r\n",
        "# accessing images for each sign from respective folders\r\n",
        "for fname in os.listdir(folder):\r\n",
        "    img_path = os.path.join(folder, fname)\r\n",
        "    images = load_images(img_path, fname)"
      ],
      "execution_count": null,
      "outputs": []
    },
    {
      "cell_type": "code",
      "metadata": {
        "id": "O5SIFg98fF4o"
      },
      "source": [
        "import keras\r\n",
        "import pandas as pd\r\n",
        "import numpy as np\r\n",
        "\r\n",
        "# create dataframe to store images and their corresponding labels\r\n",
        "df = pd.DataFrame()\r\n",
        "df['images'] = images\r\n",
        "df['labels'] = labels\r\n",
        "\r\n",
        "# convert labels (type = str) into categorical variables (type = int) \r\n",
        "# and store in a new dataframe column named 'target'\r\n",
        "df['labels'] = df['labels'].astype('category')\r\n",
        "df['target'] = df['labels'].cat.codes"
      ],
      "execution_count": null,
      "outputs": []
    },
    {
      "cell_type": "code",
      "metadata": {
        "id": "8dn6idP4fFuH"
      },
      "source": [
        "from sklearn.preprocessing import OneHotEncoder\r\n",
        "\r\n",
        "# creating instance of one-hot-encoder\r\n",
        "enc = OneHotEncoder(handle_unknown='ignore')\r\n",
        "\r\n",
        "# convert integer labels to one-hot encoding vector\r\n",
        "enc = enc.fit_transform(df[['target']])\r\n",
        "enc = enc.toarray()\r\n"
      ],
      "execution_count": null,
      "outputs": []
    },
    {
      "cell_type": "code",
      "metadata": {
        "id": "Hd4OaOtmfFxF"
      },
      "source": [
        "from sklearn.model_selection import train_test_split\r\n",
        "\r\n",
        "X = np.array(images)\r\n",
        "y = enc\r\n",
        "\r\n",
        "# split the dataset into train, validation and test sets\r\n",
        "X_tr, X_test, y_tr, y_test = train_test_split(X, y, test_size = 0.3, stratify = y)\r\n",
        "X_val, X_tt, y_val, y_tt = train_test_split(X_test, y_test, test_size = 0.5, stratify = y_test)\r\n"
      ],
      "execution_count": null,
      "outputs": []
    },
    {
      "cell_type": "code",
      "metadata": {
        "colab": {
          "base_uri": "https://localhost:8080/"
        },
        "id": "kk-qYtL7gNmq",
        "outputId": "19e196b9-1a05-403f-9ebb-a0293600c328"
      },
      "source": [
        "from keras.models import Sequential\r\n",
        "from keras.optimizers import RMSprop, Adam, Adadelta\r\n",
        "from keras.layers import Conv2D, MaxPooling2D, Dense, Flatten, Activation\r\n",
        "from sklearn.model_selection import train_test_split\r\n",
        "from keras.callbacks import EarlyStopping\r\n",
        "from keras.metrics import Accuracy\r\n",
        "\r\n",
        "earlystopping = EarlyStopping(monitor='val_loss', min_delta=0, patience=10, verbose=1, mode='auto')\r\n",
        "\r\n",
        "# CNN model for image classification\r\n",
        "model = Sequential()\r\n",
        "model.add(Conv2D(16, (3,3), activation='relu', input_shape=X_tr[0].shape))\r\n",
        "model.add(MaxPooling2D(pool_size=2))\r\n",
        "model.add(Conv2D(32, (3,3)))\r\n",
        "model.add(MaxPooling2D(pool_size=2))\r\n",
        "model.add(Flatten())\r\n",
        "model.add(Dense(36, activation='softmax'))\r\n",
        "opt = keras.optimizers.Adadelta(learning_rate = 0.01)\r\n",
        "model.compile(optimizer=opt, loss='categorical_crossentropy', metrics=['accuracy'])\r\n",
        "model.summary()\r\n",
        "\r\n",
        "history = model.fit(X_tr, y_tr, batch_size=100, epochs=100, verbose=1, validation_data=(X_val, y_val), callbacks=[earlystopping])\r\n"
      ],
      "execution_count": null,
      "outputs": [
        {
          "output_type": "stream",
          "text": [
            "Model: \"sequential\"\n",
            "_________________________________________________________________\n",
            "Layer (type)                 Output Shape              Param #   \n",
            "=================================================================\n",
            "conv2d (Conv2D)              (None, 398, 398, 16)      448       \n",
            "_________________________________________________________________\n",
            "max_pooling2d (MaxPooling2D) (None, 199, 199, 16)      0         \n",
            "_________________________________________________________________\n",
            "conv2d_1 (Conv2D)            (None, 197, 197, 32)      4640      \n",
            "_________________________________________________________________\n",
            "max_pooling2d_1 (MaxPooling2 (None, 98, 98, 32)        0         \n",
            "_________________________________________________________________\n",
            "flatten (Flatten)            (None, 307328)            0         \n",
            "_________________________________________________________________\n",
            "dense (Dense)                (None, 36)                11063844  \n",
            "=================================================================\n",
            "Total params: 11,068,932\n",
            "Trainable params: 11,068,932\n",
            "Non-trainable params: 0\n",
            "_________________________________________________________________\n",
            "Epoch 1/100\n",
            " 2/18 [==>...........................] - ETA: 1s - loss: 60.9031 - accuracy: 0.0350WARNING:tensorflow:Callbacks method `on_train_batch_end` is slow compared to the batch time (batch time: 0.0550s vs `on_train_batch_end` time: 0.1072s). Check your callbacks.\n",
            "18/18 [==============================] - 4s 225ms/step - loss: 41.4171 - accuracy: 0.2580 - val_loss: 13.3769 - val_accuracy: 0.5782\n",
            "Epoch 2/100\n",
            "18/18 [==============================] - 3s 166ms/step - loss: 8.4716 - accuracy: 0.6460 - val_loss: 5.2939 - val_accuracy: 0.7321\n",
            "Epoch 3/100\n",
            "18/18 [==============================] - 3s 166ms/step - loss: 3.6435 - accuracy: 0.7818 - val_loss: 7.8620 - val_accuracy: 0.6684\n",
            "Epoch 4/100\n",
            "18/18 [==============================] - 3s 168ms/step - loss: 2.3164 - accuracy: 0.8403 - val_loss: 7.7718 - val_accuracy: 0.6923\n",
            "Epoch 5/100\n",
            "18/18 [==============================] - 3s 167ms/step - loss: 2.2490 - accuracy: 0.8631 - val_loss: 1.8822 - val_accuracy: 0.8568\n",
            "Epoch 6/100\n",
            "18/18 [==============================] - 3s 167ms/step - loss: 0.7933 - accuracy: 0.9256 - val_loss: 3.1851 - val_accuracy: 0.8488\n",
            "Epoch 7/100\n",
            "18/18 [==============================] - 3s 167ms/step - loss: 1.0563 - accuracy: 0.9227 - val_loss: 1.9022 - val_accuracy: 0.8568\n",
            "Epoch 8/100\n",
            "18/18 [==============================] - 3s 167ms/step - loss: 0.4266 - accuracy: 0.9494 - val_loss: 3.4616 - val_accuracy: 0.8037\n",
            "Epoch 9/100\n",
            "18/18 [==============================] - 3s 166ms/step - loss: 0.7008 - accuracy: 0.9358 - val_loss: 4.2464 - val_accuracy: 0.7931\n",
            "Epoch 10/100\n",
            "18/18 [==============================] - 3s 168ms/step - loss: 0.6943 - accuracy: 0.9369 - val_loss: 4.2828 - val_accuracy: 0.8143\n",
            "Epoch 11/100\n",
            "18/18 [==============================] - 3s 166ms/step - loss: 1.4307 - accuracy: 0.9165 - val_loss: 2.0042 - val_accuracy: 0.8806\n",
            "Epoch 12/100\n",
            "18/18 [==============================] - 3s 168ms/step - loss: 0.8102 - accuracy: 0.9330 - val_loss: 2.0303 - val_accuracy: 0.8462\n",
            "Epoch 13/100\n",
            "18/18 [==============================] - 3s 168ms/step - loss: 0.7901 - accuracy: 0.9438 - val_loss: 2.1955 - val_accuracy: 0.8806\n",
            "Epoch 14/100\n",
            "18/18 [==============================] - 3s 166ms/step - loss: 0.5394 - accuracy: 0.9682 - val_loss: 2.3531 - val_accuracy: 0.8992\n",
            "Epoch 15/100\n",
            "18/18 [==============================] - 3s 166ms/step - loss: 0.1518 - accuracy: 0.9886 - val_loss: 0.9369 - val_accuracy: 0.9390\n",
            "Epoch 16/100\n",
            "18/18 [==============================] - 3s 167ms/step - loss: 0.0152 - accuracy: 0.9983 - val_loss: 0.9261 - val_accuracy: 0.9416\n",
            "Epoch 17/100\n",
            "18/18 [==============================] - 3s 166ms/step - loss: 0.0019 - accuracy: 0.9989 - val_loss: 1.5480 - val_accuracy: 0.9178\n",
            "Epoch 18/100\n",
            "18/18 [==============================] - 3s 168ms/step - loss: 2.2744 - accuracy: 0.9057 - val_loss: 10.4671 - val_accuracy: 0.6286\n",
            "Epoch 19/100\n",
            "18/18 [==============================] - 3s 167ms/step - loss: 1.3587 - accuracy: 0.9318 - val_loss: 1.1359 - val_accuracy: 0.9363\n",
            "Epoch 20/100\n",
            "18/18 [==============================] - 3s 168ms/step - loss: 0.0371 - accuracy: 0.9937 - val_loss: 0.9638 - val_accuracy: 0.9337\n",
            "Epoch 21/100\n",
            "18/18 [==============================] - 3s 171ms/step - loss: 0.0028 - accuracy: 0.9994 - val_loss: 0.9253 - val_accuracy: 0.9337\n",
            "Epoch 22/100\n",
            "18/18 [==============================] - 3s 168ms/step - loss: 0.0041 - accuracy: 0.9989 - val_loss: 0.9261 - val_accuracy: 0.9337\n",
            "Epoch 23/100\n",
            "18/18 [==============================] - 3s 170ms/step - loss: 1.8459e-05 - accuracy: 1.0000 - val_loss: 0.9216 - val_accuracy: 0.9337\n",
            "Epoch 24/100\n",
            "18/18 [==============================] - 3s 169ms/step - loss: 1.6643e-05 - accuracy: 1.0000 - val_loss: 0.9270 - val_accuracy: 0.9337\n",
            "Epoch 25/100\n",
            "18/18 [==============================] - 3s 169ms/step - loss: 1.5573e-05 - accuracy: 1.0000 - val_loss: 0.9094 - val_accuracy: 0.9363\n",
            "Epoch 26/100\n",
            "18/18 [==============================] - 3s 168ms/step - loss: 1.5841e-05 - accuracy: 1.0000 - val_loss: 0.9497 - val_accuracy: 0.9363\n",
            "Epoch 27/100\n",
            "18/18 [==============================] - 3s 167ms/step - loss: 0.6289 - accuracy: 0.9625 - val_loss: 6.6856 - val_accuracy: 0.7586\n",
            "Epoch 28/100\n",
            "18/18 [==============================] - 3s 168ms/step - loss: 1.8967 - accuracy: 0.9040 - val_loss: 2.8922 - val_accuracy: 0.8647\n",
            "Epoch 29/100\n",
            "18/18 [==============================] - 3s 168ms/step - loss: 0.4083 - accuracy: 0.9750 - val_loss: 1.1346 - val_accuracy: 0.9310\n",
            "Epoch 30/100\n",
            "18/18 [==============================] - 3s 170ms/step - loss: 0.0866 - accuracy: 0.9937 - val_loss: 0.9659 - val_accuracy: 0.9390\n",
            "Epoch 31/100\n",
            "18/18 [==============================] - 3s 168ms/step - loss: 0.0107 - accuracy: 0.9983 - val_loss: 2.4511 - val_accuracy: 0.9125\n",
            "Epoch 32/100\n",
            "18/18 [==============================] - 3s 168ms/step - loss: 0.0686 - accuracy: 0.9972 - val_loss: 1.0150 - val_accuracy: 0.9390\n",
            "Epoch 33/100\n",
            "18/18 [==============================] - 3s 169ms/step - loss: 0.0171 - accuracy: 0.9972 - val_loss: 0.9323 - val_accuracy: 0.9416\n",
            "Epoch 34/100\n",
            "18/18 [==============================] - 3s 170ms/step - loss: 8.2518e-05 - accuracy: 1.0000 - val_loss: 0.9391 - val_accuracy: 0.9443\n",
            "Epoch 35/100\n",
            "18/18 [==============================] - 3s 171ms/step - loss: 9.5894e-06 - accuracy: 1.0000 - val_loss: 0.9406 - val_accuracy: 0.9416\n",
            "Epoch 00035: early stopping\n"
          ],
          "name": "stdout"
        }
      ]
    },
    {
      "cell_type": "code",
      "metadata": {
        "colab": {
          "base_uri": "https://localhost:8080/"
        },
        "id": "0eycZpqYwd0P",
        "outputId": "3f7e1024-8f82-4507-c9fc-2ab4e281f776"
      },
      "source": [
        "# predicting target value for test data\r\n",
        "pred = model.predict(X_tt)\r\n",
        "\r\n",
        "y_pred = np.argmax(pred, axis=1)\r\n",
        "y_true = np.argmax(y_tt, axis=1)\r\n",
        "\r\n",
        "# evaluating prediction accuracy on test data\r\n",
        "count=0\r\n",
        "for i in range(len(y_pred)):\r\n",
        "    if y_pred[i]==y_true[i]:\r\n",
        "        count+=1\r\n",
        "\r\n",
        "print('Accuracy: {}%' .format(round((count*100)/len(y_pred), 2)))"
      ],
      "execution_count": null,
      "outputs": [
        {
          "output_type": "stream",
          "text": [
            "Accuracy: 93.39%\n"
          ],
          "name": "stdout"
        }
      ]
    },
    {
      "cell_type": "code",
      "metadata": {
        "id": "kAe8jAIM9jrl"
      },
      "source": [
        ""
      ],
      "execution_count": null,
      "outputs": []
    }
  ]
}